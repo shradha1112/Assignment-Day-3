{
 "cells": [
  {
   "cell_type": "raw",
   "metadata": {},
   "source": [
    "Answer 1"
   ]
  },
  {
   "cell_type": "code",
   "execution_count": 3,
   "metadata": {},
   "outputs": [
    {
     "name": "stdout",
     "output_type": "stream",
     "text": [
      "[ 2  5  8 11 14 17 20 23 26 29 32 35 38 41 44 47]\n"
     ]
    }
   ],
   "source": [
    "import numpy as np\n",
    "arr=np.arange(2,50,3)\n",
    "print(arr)"
   ]
  },
  {
   "cell_type": "raw",
   "metadata": {},
   "source": [
    "Answer 2"
   ]
  },
  {
   "cell_type": "code",
   "execution_count": 1,
   "metadata": {},
   "outputs": [
    {
     "name": "stdout",
     "output_type": "stream",
     "text": [
      "5\n",
      "5\n",
      "8\n",
      "9\n",
      "6\n",
      "2\n",
      "[5, 8, 9, 6, 2]\n"
     ]
    }
   ],
   "source": [
    "list=[]\n",
    "n = int(input())\n",
    "for i in range(0,5):\n",
    "    ele = int(input())\n",
    "    list.append(ele)\n",
    "print(list)    "
   ]
  },
  {
   "cell_type": "raw",
   "metadata": {},
   "source": [
    "Answer 3"
   ]
  },
  {
   "cell_type": "code",
   "execution_count": 1,
   "metadata": {},
   "outputs": [
    {
     "name": "stdout",
     "output_type": "stream",
     "text": [
      "No. of dimensions:  2\n",
      "Size of array:  6\n"
     ]
    }
   ],
   "source": [
    "import numpy as np\n",
    " \n",
    "# Creating array object\n",
    "arr = np.array( [[ 1, 2, 3],\n",
    "                 [ 4, 2, 5]] )\n",
    " \n",
    "\n",
    " # Printing array dimensions (axes)\n",
    "print(\"No. of dimensions: \", arr.ndim)\n",
    " \n",
    "\n",
    " \n",
    " # Printing size (total number of elements) of array\n",
    "print(\"Size of array: \", arr.size)\n",
    " "
   ]
  },
  {
   "cell_type": "raw",
   "metadata": {},
   "source": [
    "Answer 4"
   ]
  },
  {
   "cell_type": "raw",
   "metadata": {},
   "source": [
    "Adding newaxis at the beginning changes the shape from (3,) to (1, 3).\n",
    "y = array(x)[newaxis, :]\n",
    "show_array(y)\n",
    "array: \n",
    " [[5 6 7]]\n",
    "array.ndim: 2\n",
    "array.shape: (1, 3)\n",
    "y = array(x)[newaxis] # This is short hand of y = array(x)[newaxis, :]\n",
    "show_array(y)\n",
    "array: \n",
    " [[5 6 7]]\n",
    "array.ndim: 2\n",
    "array.shape: (1, 3)\n",
    "y = expand_dims(x, axis=0)\n",
    "show_array(y)\n",
    "array: \n",
    " [[5 6 7]]\n",
    "array.ndim: 2\n",
    "array.shape: (1, 3)\n",
    "y = x.reshape(1, -1)\n",
    "show_array(y)\n",
    "array: \n",
    " [[5 6 7]]\n",
    "array.ndim: 2\n",
    "array.shape: (1, 3)\n",
    "Vector to column matrix\n",
    "Adding newaxis at the end changes the shape from (3,) to (3, 1).\n",
    "y = array(x)[:, newaxis]\n",
    "show_array(y)\n",
    "array: \n",
    " [[5]\n",
    " [6]\n",
    " [7]]\n",
    "array.ndim: 2\n",
    "array.shape: (3, 1)\n",
    "y = expand_dims(x, axis=1)\n",
    "show_array(y)\n",
    "array: \n",
    " [[5]\n",
    " [6]\n",
    " [7]]\n",
    "array.ndim: 2\n",
    "array.shape: (3, 1)\n",
    "Equivalently,\n",
    "y = expand_dims(x, axis=-1)\n",
    "show_array(y)\n",
    "array: \n",
    " [[5]\n",
    " [6]\n",
    " [7]]\n",
    "array.ndim: 2\n",
    "array.shape: (3, 1)\n",
    "Any number >= 1 does the same.\n",
    "y = expand_dims(x, axis=123456)\n",
    "show_array(y)\n",
    "array: \n",
    " [[5]\n",
    " [6]\n",
    " [7]]\n",
    "array.ndim: 2\n",
    "array.shape: (3, 1)\n",
    "\n",
    "y = x.reshape(-1, 1)\n",
    "show_array(y)\n",
    "array: \n",
    " [[5]\n",
    " [6]\n",
    " [7]]\n",
    "array.ndim: 2\n",
    "array.shape: (3, 1)"
   ]
  },
  {
   "cell_type": "raw",
   "metadata": {},
   "source": [
    "Answer 5"
   ]
  },
  {
   "cell_type": "code",
   "execution_count": 8,
   "metadata": {},
   "outputs": [
    {
     "name": "stdout",
     "output_type": "stream",
     "text": [
      "Vertical stacking:\n",
      " [[1 2]\n",
      " [3 4]\n",
      " [5 6]\n",
      " [7 8]]\n",
      "\n",
      "Horizontal stacking:\n",
      " [[1 2 5 6]\n",
      " [3 4 7 8]]\n"
     ]
    }
   ],
   "source": [
    "import numpy as np \n",
    "  \n",
    "a = np.array([[1, 2], \n",
    "              [3, 4]]) \n",
    "  \n",
    "b = np.array([[5, 6], \n",
    "              [7, 8]]) \n",
    "  \n",
    "# vertical stacking \n",
    "print(\"Vertical stacking:\\n\", np.vstack((a, b))) \n",
    "  \n",
    "# horizontal stacking \n",
    "print(\"\\nHorizontal stacking:\\n\", np.hstack((a, b))) \n",
    "  \n"
   ]
  },
  {
   "cell_type": "raw",
   "metadata": {},
   "source": [
    "Answer 6"
   ]
  },
  {
   "cell_type": "code",
   "execution_count": 12,
   "metadata": {},
   "outputs": [
    {
     "name": "stdout",
     "output_type": "stream",
     "text": [
      "[1, 2, 3, 4, 5]\n",
      "No of unique items in the list are: 5\n"
     ]
    }
   ],
   "source": [
    "from collections import Counter\n",
    "numbers = [1, 2, 2, 3, 3, 4, 5]\n",
    "\n",
    "\n",
    "def get_unique_numbers(numbers):\n",
    "\n",
    "    list_of_unique_numbers = []\n",
    "\n",
    "    unique_numbers = set(numbers)\n",
    "\n",
    "    for number in unique_numbers:\n",
    "        list_of_unique_numbers.append(number)\n",
    "\n",
    "    return list_of_unique_numbers\n",
    "\n",
    "\n",
    "print(get_unique_numbers(numbers))\n",
    "\n",
    "items = Counter(numbers).keys() \n",
    "print(\"Count of unique items in the list are:\", len(items)) "
   ]
  }
 ],
 "metadata": {
  "kernelspec": {
   "display_name": "Python 3",
   "language": "python",
   "name": "python3"
  },
  "language_info": {
   "codemirror_mode": {
    "name": "ipython",
    "version": 3
   },
   "file_extension": ".py",
   "mimetype": "text/x-python",
   "name": "python",
   "nbconvert_exporter": "python",
   "pygments_lexer": "ipython3",
   "version": "3.8.3"
  }
 },
 "nbformat": 4,
 "nbformat_minor": 4
}
